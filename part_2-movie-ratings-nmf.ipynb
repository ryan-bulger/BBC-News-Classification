{
 "cells": [
  {
   "cell_type": "markdown",
   "id": "645a6885",
   "metadata": {},
   "source": [
    "# Movie Ratings NMF"
   ]
  },
  {
   "cell_type": "code",
   "execution_count": 1,
   "id": "06ed3ac0",
   "metadata": {},
   "outputs": [],
   "source": [
    "# Load python libraries that will be used for the analysis\n",
    "import pandas as pd\n",
    "import numpy as np\n",
    "from sklearn.decomposition import NMF\n",
    "from sklearn.metrics import mean_squared_error\n",
    "from scipy.sparse import csr_matrix"
   ]
  },
  {
   "cell_type": "code",
   "execution_count": 2,
   "id": "231630ab",
   "metadata": {},
   "outputs": [
    {
     "data": {
      "text/plain": [
       "np.float64(2.860485897304819)"
      ]
     },
     "execution_count": 2,
     "metadata": {},
     "output_type": "execute_result"
    }
   ],
   "source": [
    "# Load the datasets\n",
    "train_df = pd.read_csv('./movies_train.csv')\n",
    "test_df = pd.read_csv('./movies_test.csv')\n",
    "\n",
    "# Encode user and movie IDs to indices\n",
    "user_mapping = {u: i for i, u in enumerate(train_df['uID'].unique())}\n",
    "movie_mapping = {m: i for i, m in enumerate(train_df['mID'].unique())}\n",
    "\n",
    "n_users = len(user_mapping)\n",
    "n_movies = len(movie_mapping)\n",
    "\n",
    "# Build sparse user-item matrix\n",
    "rows = train_df['uID'].map(user_mapping)\n",
    "cols = train_df['mID'].map(movie_mapping)\n",
    "ratings = train_df['rating'].astype(float)\n",
    "user_item_sparse = csr_matrix((ratings, (rows, cols)), shape=(n_users, n_movies))\n",
    "\n",
    "# Fit NMF on sparse matrix\n",
    "nmf_model = NMF(n_components=20, init='nndsvda', random_state=42, max_iter=1000)\n",
    "W = nmf_model.fit_transform(user_item_sparse)\n",
    "H = nmf_model.components_\n",
    "\n",
    "# Predictions\n",
    "pred_matrix = np.dot(W, H)\n",
    "\n",
    "# Evaluate RMSE on test data\n",
    "y_true, y_pred = [], []\n",
    "for _, row in test_df.iterrows():\n",
    "    user, movie, actual = row['uID'], row['mID'], row['rating']\n",
    "    if user in user_mapping and movie in movie_mapping:\n",
    "        y_true.append(actual)\n",
    "        y_pred.append(pred_matrix[user_mapping[user], movie_mapping[movie]])\n",
    "\n",
    "rmse = np.sqrt(mean_squared_error(y_true, y_pred))\n",
    "rmse"
   ]
  },
  {
   "cell_type": "markdown",
   "id": "4ce4c335",
   "metadata": {},
   "source": [
    " Discuss the results and why sklearn's non-negative matrix facorization library did not work well compared to simple baseline or similarity-based methods we’ve done in Module 3. Can you suggest a way(s) to fix it?\n",
    " > The RMSE of about 2.86 shows that sklearn’s NMF doesn’t perform very well for movie ratings because it treats missing values as zeros, ignores user or item biases, and struggles with the sparse nature of rating data. In contrast, simple baseline or similarity-based methods often do better because they directly use averages or nearest neighbors, which handle sparsity more naturally.  \n",
    " \n",
    " > To improve NMF results, you could add user and item bias terms, blend it with baseline predictions, tune the number of factors and regularization, or use recommender-specific tools like SVD or SVD++ that are designed for sparse rating prediction."
   ]
  }
 ],
 "metadata": {
  "kernelspec": {
   "display_name": "Python 3",
   "language": "python",
   "name": "python3"
  },
  "language_info": {
   "codemirror_mode": {
    "name": "ipython",
    "version": 3
   },
   "file_extension": ".py",
   "mimetype": "text/x-python",
   "name": "python",
   "nbconvert_exporter": "python",
   "pygments_lexer": "ipython3",
   "version": "3.13.5"
  }
 },
 "nbformat": 4,
 "nbformat_minor": 5
}
